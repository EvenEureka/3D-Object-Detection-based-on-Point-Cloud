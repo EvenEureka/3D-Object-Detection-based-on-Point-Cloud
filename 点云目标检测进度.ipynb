{
 "cells": [
  {
   "cell_type": "code",
   "execution_count": null,
   "outputs": [],
   "source": [
    "#创建虚拟环境\n",
    "conda create -n ted-lyt python=3.6.9 -y\n",
    "\n",
    "pip install torch==1.8.1+cu111 torchvision==0.9.1+cu111 torchaudio==0.8.1 -f https://download.pytorch.org/whl/torch_stable.html\n",
    "pip install spconv-cu111\n",
    "pip install opencv-python==4.6.0.66\n",
    "pip install kornia==0.5.0\n",
    "pip install -r requirements.txt\n",
    "pip install prefetch-generator"
   ],
   "metadata": {
    "collapsed": false
   }
  },
  {
   "cell_type": "code",
   "execution_count": null,
   "outputs": [],
   "source": [
    "#编译\n",
    "python3 setup.py develop"
   ],
   "metadata": {
    "collapsed": false
   }
  },
  {
   "cell_type": "code",
   "execution_count": null,
   "outputs": [],
   "source": [
    "#将lidar的pcd数据经过pcd2bin.py转换，复制粘贴到data/kitti/testing/velovyne下"
   ],
   "metadata": {
    "collapsed": false
   }
  },
  {
   "cell_type": "code",
   "execution_count": null,
   "outputs": [],
   "source": [
    "#创建数据集info文件\n",
    "python3 -m pcdet.datasets.kitti.kitti_dataset create_kitti_infos tools/cfgs/dataset_configs/kitti_dataset.yaml"
   ],
   "metadata": {
    "collapsed": false
   }
  },
  {
   "cell_type": "code",
   "execution_count": null,
   "outputs": [],
   "source": [
    "#训练命令\n",
    "cd tools\n",
    "python3 train.py --cfg_file cfgs/models/kitti/TED-S.yaml"
   ],
   "metadata": {
    "collapsed": false
   }
  },
  {
   "cell_type": "code",
   "execution_count": null,
   "outputs": [],
   "source": [
    "#测试\n",
    "cd tools\n",
    "python3 test.py --cfg_file cfgs/models/kitti/TED-S.yaml --ckpt checkpoint_epoch_20.pth"
   ],
   "metadata": {
    "collapsed": false
   }
  },
  {
   "cell_type": "markdown",
   "source": [
    "目前的问题：\n",
    "1. 在训练中，模型能正常输出pred_dicts，但日志文件中得到的的ap值都是0。需要进一步检测是哪里出了问题。\n",
    "2. 在训练和测试，都还是单类别目标检测。需要参考https://github.com/hailanyi/TED/issues/14 对模型进行修改，以重新训练并输出多类别的检测结果。"
   ],
   "metadata": {
    "collapsed": false
   }
  }
 ],
 "metadata": {
  "kernelspec": {
   "display_name": "Python 3",
   "language": "python",
   "name": "python3"
  },
  "language_info": {
   "codemirror_mode": {
    "name": "ipython",
    "version": 2
   },
   "file_extension": ".py",
   "mimetype": "text/x-python",
   "name": "python",
   "nbconvert_exporter": "python",
   "pygments_lexer": "ipython2",
   "version": "2.7.6"
  }
 },
 "nbformat": 4,
 "nbformat_minor": 0
}
