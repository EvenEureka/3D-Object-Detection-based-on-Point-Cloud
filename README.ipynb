{
 "cells": [
  {
   "cell_type": "code",
   "execution_count": null,
   "outputs": [],
   "source": [
    "#创建虚拟环境\n",
    "conda create -n <name> python=3.6.9 -y\n",
    "\n",
    "pip install torch==1.8.1+cu111 torchvision==0.9.1+cu111 torchaudio==0.8.1 -f https://download.pytorch.org/whl/torch_stable.html\n",
    "pip install spconv-cu111\n",
    "pip install opencv-python==4.6.0.66\n",
    "pip install kornia==0.5.0\n",
    "pip install -r requirements.txt\n",
    "pip install prefetch-generator"
   ],
   "metadata": {
    "collapsed": false
   }
  },
  {
   "cell_type": "code",
   "execution_count": null,
   "outputs": [],
   "source": [
    "#编译\n",
    "python3 setup.py develop"
   ],
   "metadata": {
    "collapsed": false
   }
  },
  {
   "cell_type": "code",
   "execution_count": null,
   "outputs": [],
   "source": [
    "#对于lidar的pcd数据使用脚本pcd2bin.py进行转换，结果放到data/kitti/testing/velovyne下\n",
    "python pcd2bin.py"
   ],
   "metadata": {
    "collapsed": false
   }
  },
  {
   "cell_type": "code",
   "execution_count": null,
   "outputs": [],
   "source": [
    "#创建数据集info文件\n",
    "#测试需要的info文件为data/kitti/kitti_infos_test.pkl，本项目有生成好的，因而此步可跳过。\n",
    "# python3 -m pcdet.datasets.kitti.kitti_dataset create_kitti_infos tools/cfgs/dataset_configs/kitti_dataset.yaml"
   ],
   "metadata": {
    "collapsed": false
   }
  },
  {
   "cell_type": "code",
   "execution_count": null,
   "outputs": [],
   "source": [
    "#训练。本项目有训练后的checkpoint文件tools/TED-S.pth，因而此步可跳过。\n",
    "# cd tools\n",
    "# python3 train.py --cfg_file cfgs/models/kitti/TED-S.yaml"
   ],
   "metadata": {
    "collapsed": false
   }
  },
  {
   "cell_type": "code",
   "execution_count": null,
   "outputs": [],
   "source": [
    "#测试\n",
    "cd tools\n",
    "python3 test.py --cfg_file cfgs/models/kitti/TED-S.yaml --ckpt checkpoint_epoch_20.pth"
   ],
   "metadata": {
    "collapsed": false
   }
  },
  {
   "cell_type": "code",
   "execution_count": null,
   "outputs": [],
   "source": [
    "#对于测试的结果pkl文件，使用脚本show_pkl.py转换为竞赛要求的txt文件。\n",
    "# 本项目已给出测试结果，在result文件夹下，每个点云文件都有对应的测试结果txt文件。\n",
    "python show_pkl.py"
   ],
   "metadata": {
    "collapsed": false
   }
  }
 ],
 "metadata": {
  "kernelspec": {
   "display_name": "Python 3",
   "language": "python",
   "name": "python3"
  },
  "language_info": {
   "codemirror_mode": {
    "name": "ipython",
    "version": 2
   },
   "file_extension": ".py",
   "mimetype": "text/x-python",
   "name": "python",
   "nbconvert_exporter": "python",
   "pygments_lexer": "ipython2",
   "version": "2.7.6"
  }
 },
 "nbformat": 4,
 "nbformat_minor": 0
}
